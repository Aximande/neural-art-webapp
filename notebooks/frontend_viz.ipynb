{
 "cells": [
  {
   "cell_type": "code",
   "execution_count": 54,
   "id": "c60a74a6",
   "metadata": {
    "ExecuteTime": {
     "end_time": "2021-09-01T10:25:00.344648Z",
     "start_time": "2021-09-01T10:25:00.341384Z"
    }
   },
   "outputs": [],
   "source": [
    "import seaborn as sns\n",
    "import matplotlib.pyplot as plt\n",
    "import pandas as pd"
   ]
  },
  {
   "cell_type": "code",
   "execution_count": 48,
   "id": "b18d0f6d",
   "metadata": {
    "ExecuteTime": {
     "end_time": "2021-09-01T10:24:33.701925Z",
     "start_time": "2021-09-01T10:24:33.697639Z"
    }
   },
   "outputs": [
    {
     "data": {
      "text/plain": [
       "\"{'abstract': 0.09656394, 'color_field_painting': 2.3259385e-05, 'cubism': 0.00038009233, 'expressionism': 0.7018598, 'impressionism': 0.006471214, 'realism': 0.0673626, 'renaissance': 0.11695008, 'romanticism': 0.010389085}\""
      ]
     },
     "execution_count": 48,
     "metadata": {},
     "output_type": "execute_result"
    }
   ],
   "source": [
    "response ={\n",
    "\"pred\":\"{'abstract': 0.09656394, 'color_field_painting': 2.3259385e-05, 'cubism': 0.00038009233, 'expressionism': 0.7018598, 'impressionism': 0.006471214, 'realism': 0.0673626, 'renaissance': 0.11695008, 'romanticism': 0.010389085}\"\n",
    "}\n",
    "data = response['pred']\n",
    "data"
   ]
  },
  {
   "cell_type": "code",
   "execution_count": 49,
   "id": "c5276c78",
   "metadata": {
    "ExecuteTime": {
     "end_time": "2021-09-01T10:24:34.808644Z",
     "start_time": "2021-09-01T10:24:34.803778Z"
    },
    "scrolled": false
   },
   "outputs": [
    {
     "data": {
      "text/plain": [
       "{'abstract': 0.09656394,\n",
       " 'color_field_painting': 2.3259385e-05,\n",
       " 'cubism': 0.00038009233,\n",
       " 'expressionism': 0.7018598,\n",
       " 'impressionism': 0.006471214,\n",
       " 'realism': 0.0673626,\n",
       " 'renaissance': 0.11695008,\n",
       " 'romanticism': 0.010389085}"
      ]
     },
     "execution_count": 49,
     "metadata": {},
     "output_type": "execute_result"
    }
   ],
   "source": [
    "data = eval(data)\n",
    "data"
   ]
  },
  {
   "cell_type": "code",
   "execution_count": 50,
   "id": "1f977f18",
   "metadata": {
    "ExecuteTime": {
     "end_time": "2021-09-01T10:24:36.016488Z",
     "start_time": "2021-09-01T10:24:36.012382Z"
    }
   },
   "outputs": [
    {
     "data": {
      "text/plain": [
       "dict"
      ]
     },
     "execution_count": 50,
     "metadata": {},
     "output_type": "execute_result"
    }
   ],
   "source": [
    "type(data)"
   ]
  },
  {
   "cell_type": "code",
   "execution_count": 56,
   "id": "2f151836",
   "metadata": {
    "ExecuteTime": {
     "end_time": "2021-09-01T10:26:03.368267Z",
     "start_time": "2021-09-01T10:26:03.358732Z"
    }
   },
   "outputs": [
    {
     "data": {
      "text/html": [
       "<div>\n",
       "<style scoped>\n",
       "    .dataframe tbody tr th:only-of-type {\n",
       "        vertical-align: middle;\n",
       "    }\n",
       "\n",
       "    .dataframe tbody tr th {\n",
       "        vertical-align: top;\n",
       "    }\n",
       "\n",
       "    .dataframe thead th {\n",
       "        text-align: right;\n",
       "    }\n",
       "</style>\n",
       "<table border=\"1\" class=\"dataframe\">\n",
       "  <thead>\n",
       "    <tr style=\"text-align: right;\">\n",
       "      <th></th>\n",
       "      <th>Movement</th>\n",
       "      <th>Value of prediction</th>\n",
       "    </tr>\n",
       "  </thead>\n",
       "  <tbody>\n",
       "    <tr>\n",
       "      <th>0</th>\n",
       "      <td>abstract</td>\n",
       "      <td>0.096564</td>\n",
       "    </tr>\n",
       "    <tr>\n",
       "      <th>1</th>\n",
       "      <td>color_field_painting</td>\n",
       "      <td>0.000023</td>\n",
       "    </tr>\n",
       "    <tr>\n",
       "      <th>2</th>\n",
       "      <td>cubism</td>\n",
       "      <td>0.000380</td>\n",
       "    </tr>\n",
       "    <tr>\n",
       "      <th>3</th>\n",
       "      <td>expressionism</td>\n",
       "      <td>0.701860</td>\n",
       "    </tr>\n",
       "    <tr>\n",
       "      <th>4</th>\n",
       "      <td>impressionism</td>\n",
       "      <td>0.006471</td>\n",
       "    </tr>\n",
       "    <tr>\n",
       "      <th>5</th>\n",
       "      <td>realism</td>\n",
       "      <td>0.067363</td>\n",
       "    </tr>\n",
       "    <tr>\n",
       "      <th>6</th>\n",
       "      <td>renaissance</td>\n",
       "      <td>0.116950</td>\n",
       "    </tr>\n",
       "    <tr>\n",
       "      <th>7</th>\n",
       "      <td>romanticism</td>\n",
       "      <td>0.010389</td>\n",
       "    </tr>\n",
       "  </tbody>\n",
       "</table>\n",
       "</div>"
      ],
      "text/plain": [
       "               Movement  Value of prediction\n",
       "0              abstract             0.096564\n",
       "1  color_field_painting             0.000023\n",
       "2                cubism             0.000380\n",
       "3         expressionism             0.701860\n",
       "4         impressionism             0.006471\n",
       "5               realism             0.067363\n",
       "6           renaissance             0.116950\n",
       "7           romanticism             0.010389"
      ]
     },
     "execution_count": 56,
     "metadata": {},
     "output_type": "execute_result"
    }
   ],
   "source": [
    "df = pd.DataFrame(list(data.items()),columns = ['Movement','Value of prediction']) \n",
    "df"
   ]
  },
  {
   "cell_type": "code",
   "execution_count": 60,
   "id": "30ea2fee",
   "metadata": {
    "ExecuteTime": {
     "end_time": "2021-09-01T10:30:19.086439Z",
     "start_time": "2021-09-01T10:30:19.078935Z"
    }
   },
   "outputs": [
    {
     "data": {
      "text/html": [
       "<div>\n",
       "<style scoped>\n",
       "    .dataframe tbody tr th:only-of-type {\n",
       "        vertical-align: middle;\n",
       "    }\n",
       "\n",
       "    .dataframe tbody tr th {\n",
       "        vertical-align: top;\n",
       "    }\n",
       "\n",
       "    .dataframe thead th {\n",
       "        text-align: right;\n",
       "    }\n",
       "</style>\n",
       "<table border=\"1\" class=\"dataframe\">\n",
       "  <thead>\n",
       "    <tr style=\"text-align: right;\">\n",
       "      <th></th>\n",
       "      <th>Value of prediction</th>\n",
       "    </tr>\n",
       "    <tr>\n",
       "      <th>Movement</th>\n",
       "      <th></th>\n",
       "    </tr>\n",
       "  </thead>\n",
       "  <tbody>\n",
       "    <tr>\n",
       "      <th>abstract</th>\n",
       "      <td>0.096564</td>\n",
       "    </tr>\n",
       "    <tr>\n",
       "      <th>color_field_painting</th>\n",
       "      <td>0.000023</td>\n",
       "    </tr>\n",
       "    <tr>\n",
       "      <th>cubism</th>\n",
       "      <td>0.000380</td>\n",
       "    </tr>\n",
       "    <tr>\n",
       "      <th>expressionism</th>\n",
       "      <td>0.701860</td>\n",
       "    </tr>\n",
       "    <tr>\n",
       "      <th>impressionism</th>\n",
       "      <td>0.006471</td>\n",
       "    </tr>\n",
       "    <tr>\n",
       "      <th>realism</th>\n",
       "      <td>0.067363</td>\n",
       "    </tr>\n",
       "    <tr>\n",
       "      <th>renaissance</th>\n",
       "      <td>0.116950</td>\n",
       "    </tr>\n",
       "    <tr>\n",
       "      <th>romanticism</th>\n",
       "      <td>0.010389</td>\n",
       "    </tr>\n",
       "  </tbody>\n",
       "</table>\n",
       "</div>"
      ],
      "text/plain": [
       "                      Value of prediction\n",
       "Movement                                 \n",
       "abstract                         0.096564\n",
       "color_field_painting             0.000023\n",
       "cubism                           0.000380\n",
       "expressionism                    0.701860\n",
       "impressionism                    0.006471\n",
       "realism                          0.067363\n",
       "renaissance                      0.116950\n",
       "romanticism                      0.010389"
      ]
     },
     "execution_count": 60,
     "metadata": {},
     "output_type": "execute_result"
    }
   ],
   "source": [
    "df.set_index(\"Movement\")"
   ]
  },
  {
   "cell_type": "code",
   "execution_count": 73,
   "id": "aa9afb4b",
   "metadata": {
    "ExecuteTime": {
     "end_time": "2021-09-01T10:35:48.409540Z",
     "start_time": "2021-09-01T10:35:48.229554Z"
    }
   },
   "outputs": [
    {
     "data": {
      "text/plain": [
       "<AxesSubplot:xlabel='Value of prediction', ylabel='Movement'>"
      ]
     },
     "execution_count": 73,
     "metadata": {},
     "output_type": "execute_result"
    },
    {
     "data": {
      "image/png": "[encoded data removed]",
      "text/plain": [
       "<Figure size 432x288 with 1 Axes>"
      ]
     },
     "metadata": {},
     "output_type": "display_data"
    }
   ],
   "source": [
    "sns.set_theme(style='whitegrid',palette='Set2',context='poster')\n",
    "sns.barplot(data=df,y='Movement',x='Value of prediction', order =df.sort_values(\"Value of prediction\",ascending='False').Movement)"
   ]
  },
  {
   "cell_type": "code",
   "execution_count": 39,
   "id": "92670482",
   "metadata": {
    "ExecuteTime": {
     "end_time": "2021-09-01T10:13:55.625383Z",
     "start_time": "2021-09-01T10:13:55.622835Z"
    }
   },
   "outputs": [],
   "source": [
    "threshold = 0.01"
   ]
  },
  {
   "cell_type": "code",
   "execution_count": 40,
   "id": "78ef3e76",
   "metadata": {
    "ExecuteTime": {
     "end_time": "2021-09-01T10:13:55.799413Z",
     "start_time": "2021-09-01T10:13:55.796406Z"
    }
   },
   "outputs": [],
   "source": [
    "data = {i:j for i,j in data.items() if j>threshold}"
   ]
  },
  {
   "cell_type": "code",
   "execution_count": 41,
   "id": "a2bc6bb7",
   "metadata": {
    "ExecuteTime": {
     "end_time": "2021-09-01T10:13:55.960179Z",
     "start_time": "2021-09-01T10:13:55.956303Z"
    }
   },
   "outputs": [
    {
     "data": {
      "text/plain": [
       "dict_values([0.09656394, 0.7018598, 0.0673626, 0.11695008, 0.010389085])"
      ]
     },
     "execution_count": 41,
     "metadata": {},
     "output_type": "execute_result"
    }
   ],
   "source": [
    "data.values()"
   ]
  },
  {
   "cell_type": "code",
   "execution_count": 42,
   "id": "662cfc80",
   "metadata": {
    "ExecuteTime": {
     "end_time": "2021-09-01T10:13:56.110992Z",
     "start_time": "2021-09-01T10:13:56.108247Z"
    }
   },
   "outputs": [],
   "source": [
    "data['others'] = 1 - sum(data.values())"
   ]
  },
  {
   "cell_type": "code",
   "execution_count": 43,
   "id": "2129aed3",
   "metadata": {
    "ExecuteTime": {
     "end_time": "2021-09-01T10:13:56.277042Z",
     "start_time": "2021-09-01T10:13:56.273069Z"
    }
   },
   "outputs": [
    {
     "data": {
      "text/plain": [
       "{'abstract': 0.09656394,\n",
       " 'expressionism': 0.7018598,\n",
       " 'realism': 0.0673626,\n",
       " 'renaissance': 0.11695008,\n",
       " 'romanticism': 0.010389085,\n",
       " 'others': 0.006874494999999925}"
      ]
     },
     "execution_count": 43,
     "metadata": {},
     "output_type": "execute_result"
    }
   ],
   "source": [
    "data"
   ]
  },
  {
   "cell_type": "code",
   "execution_count": null,
   "id": "f4d087da",
   "metadata": {},
   "outputs": [],
   "source": []
  },
  {
   "cell_type": "code",
   "execution_count": 44,
   "id": "90352ff8",
   "metadata": {
    "ExecuteTime": {
     "end_time": "2021-09-01T10:13:56.619703Z",
     "start_time": "2021-09-01T10:13:56.615404Z"
    }
   },
   "outputs": [
    {
     "data": {
      "text/plain": [
       "6"
      ]
     },
     "execution_count": 44,
     "metadata": {},
     "output_type": "execute_result"
    }
   ],
   "source": [
    "len(data.values())"
   ]
  },
  {
   "cell_type": "code",
   "execution_count": 45,
   "id": "8f071305",
   "metadata": {
    "ExecuteTime": {
     "end_time": "2021-09-01T10:13:57.439210Z",
     "start_time": "2021-09-01T10:13:57.296807Z"
    }
   },
   "outputs": [
    {
     "data": {
      "image/png": "[encoded data removed]",
      "text/plain": [
       "<Figure size 720x720 with 1 Axes>"
      ]
     },
     "metadata": {},
     "output_type": "display_data"
    }
   ],
   "source": [
    "pie, ax = plt.subplots(figsize=[10,10])\n",
    "labels = data.keys()\n",
    "plt.pie(x=data.values(), autopct=\"%.1f%%\",explode=[0.05]*len(data.values()), labels=labels, pctdistance=0.7,textprops = {'fontsize': 16},)\n",
    "plt.title(\"Your Painting Style Prediction\", fontsize=14);"
   ]
  },
  {
   "cell_type": "code",
   "execution_count": null,
   "id": "e9c64b4f",
   "metadata": {},
   "outputs": [],
   "source": []
  }
 ],
 "metadata": {
  "kernelspec": {
   "display_name": "Python 3 (ipykernel)",
   "language": "python",
   "name": "python3"
  },
  "language_info": {
   "codemirror_mode": {
    "name": "ipython",
    "version": 3
   },
   "file_extension": ".py",
   "mimetype": "text/x-python",
   "name": "python",
   "nbconvert_exporter": "python",
   "pygments_lexer": "ipython3",
   "version": "3.8.6"
  },
  "toc": {
   "base_numbering": 1,
   "nav_menu": {},
   "number_sections": true,
   "sideBar": true,
   "skip_h1_title": false,
   "title_cell": "Table of Contents",
   "title_sidebar": "Contents",
   "toc_cell": false,
   "toc_position": {},
   "toc_section_display": true,
   "toc_window_display": false
  }
 },
 "nbformat": 4,
 "nbformat_minor": 5
}
